{
 "cells": [
  {
   "cell_type": "markdown",
   "metadata": {},
   "source": [
    "##### Tableau dashboard data download "
   ]
  },
  {
   "cell_type": "code",
   "execution_count": null,
   "metadata": {},
   "outputs": [],
   "source": [
    "from tableau_api_lib import TableauServerConnection\n",
    "from tableau_api_lib.utils import querying\n",
    "from tableau_api_lib.utils.common import flatten_dict_column\n",
    "import pandas as pd\n",
    "\n",
    "tableau_server_config = {\n",
    "        'my_env': {\n",
    "                'server': 'https://******.*****.com',\n",
    "                'api_version': \"3.6\",\n",
    "                'username': '****',\n",
    "                'password': '***@123',\n",
    "                'site_name': 'Default',\n",
    "                'site_url': ''\n",
    "        }\n",
    "}\n",
    "conn = TableauServerConnection(tableau_server_config, env='my_env')\n",
    "conn.sign_in()"
   ]
  },
  {
   "cell_type": "code",
   "execution_count": null,
   "metadata": {},
   "outputs": [],
   "source": [
    "site_views_df = querying.get_views_dataframe(conn)\n",
    "site_views_detailed_df = flatten_dict_column(site_views_df, keys=['name', 'id'], col_name='workbook')\n",
    "site_views_detailed_df"
   ]
  },
  {
   "cell_type": "code",
   "execution_count": null,
   "metadata": {},
   "outputs": [],
   "source": [
    "relevant_views_df = site_views_detailed_df[site_views_detailed_df['workbook_name'] == 'More than 80 repledges during 30 days']\n",
    "relevant_views_df"
   ]
  },
  {
   "cell_type": "code",
   "execution_count": null,
   "metadata": {},
   "outputs": [],
   "source": [
    "visual_c_id = relevant_views_df[relevant_views_df['name'] == 'WorkbookMore than 80 repledges during 30 days']['id'].to_list()[0]\n",
    "visual_c_id"
   ]
  },
  {
   "cell_type": "code",
   "execution_count": null,
   "metadata": {},
   "outputs": [],
   "source": [
    "view_data_raw = querying.get_view_data_dataframe(conn, view_id=visual_c_id)\n",
    "df = pd.DataFrame(view_data_raw)\n",
    "ddf = df.pivot_table(index=['CUST_ID'],  columns='Measure Names', values=['Measure Values'], aggfunc='first')"
   ]
  },
  {
   "cell_type": "code",
   "execution_count": null,
   "metadata": {},
   "outputs": [],
   "source": []
  },
  {
   "cell_type": "code",
   "execution_count": null,
   "metadata": {},
   "outputs": [],
   "source": [
    "data = pd.merge(ddf, df, on=\"CUST_ID\", how=\"left\")\n",
    "s = data.drop_duplicates('CUST_ID', keep='last')\n",
    "s.drop(['Measure Names', 'Measure Values','SETTLED_PL_COUNT'], axis=1, inplace=True)\n",
    "s.to_excel(\"Data.xlsx\", index=False)"
   ]
  },
  {
   "cell_type": "code",
   "execution_count": null,
   "metadata": {},
   "outputs": [],
   "source": []
  },
  {
   "cell_type": "markdown",
   "metadata": {},
   "source": [
    "##### Data Insert part Create table and then insert"
   ]
  },
  {
   "cell_type": "code",
   "execution_count": null,
   "metadata": {},
   "outputs": [],
   "source": [
    "import cx_Oracle\n",
    "import pandas as pd\n",
    "data = pd.read_excel(r\"C:\\Users\\356285\\Desktop\\TableauPythpon\\Data.xlsx\")\n",
    "conn = cx_Oracle.connect(\"****\", \"****$1234\", \"***\")\n",
    "cursor = conn.cursor()   "
   ]
  },
  {
   "cell_type": "code",
   "execution_count": null,
   "metadata": {},
   "outputs": [],
   "source": [
    "sql = \"\"\"CREATE TABLE Tableau_AML_80123 \n",
    "    (CUST_ID varchar2(50) NOT NULL,\n",
    "     INV_COUNT varchar2(50) NOT NULL, \n",
    "     LIVE_PL_AMOUNT varchar2(50) NOT NULL,\n",
    "     LIVE_PL_COUNT varchar2(50) NOT NULL,\n",
    "     SETTLED_PL_AMOUNT varchar2(50) NOT NULL,  \n",
    "     SETTLED_PL_COUNT varchar2(50) NOT NULL\n",
    "     )  \"\"\"\n",
    "\n",
    "cursor.execute(sql)"
   ]
  },
  {
   "cell_type": "code",
   "execution_count": null,
   "metadata": {},
   "outputs": [],
   "source": [
    "rec = data.astype(str).values.tolist()\n",
    "\n",
    "for i in range(len(rec)):\n",
    "    cursor.prepare(\"INSERT INTO Tableau_AML_80123 VALUES (:1,:2,:3,:4,:5,:6)\")\n",
    "    cursor.executemany(None,([rec[i]]))\n",
    "\n",
    "conn.commit()\n",
    "conn.close"
   ]
  },
  {
   "cell_type": "code",
   "execution_count": null,
   "metadata": {},
   "outputs": [],
   "source": [
    "# rec[:1]"
   ]
  },
  {
   "cell_type": "code",
   "execution_count": null,
   "metadata": {},
   "outputs": [],
   "source": [
    "import cx_Oracle\n",
    "import pandas\n",
    " \n",
    "sql = \"select * from Tableau_AML_80\"\n",
    "\n",
    " \n",
    "conn = cx_Oracle.connect(\"*******\", \"****$1234\", \"****\")\n",
    " \n",
    "cursor = conn.cursor()\n",
    "cursor.execute(sql)\n",
    "df = pandas.read_sql(sql,con=conn)"
   ]
  },
  {
   "cell_type": "code",
   "execution_count": null,
   "metadata": {},
   "outputs": [],
   "source": []
  },
  {
   "cell_type": "code",
   "execution_count": null,
   "metadata": {},
   "outputs": [],
   "source": [
    "# sql = 'DROP TABLE Tableau_AML_80'\n",
    "# conn = cx_Oracle.connect(\"kpmg\", \"Asd$1234\", \"HISTDBOCI\")\n",
    " \n",
    "# cursor = conn.cursor()\n",
    "# cursor.execute(sql)"
   ]
  }
 ],
 "metadata": {
  "kernelspec": {
   "display_name": "Python 3",
   "language": "python",
   "name": "python3"
  },
  "language_info": {
   "codemirror_mode": {
    "name": "ipython",
    "version": 3
   },
   "file_extension": ".py",
   "mimetype": "text/x-python",
   "name": "python",
   "nbconvert_exporter": "python",
   "pygments_lexer": "ipython3",
   "version": "3.7.6"
  }
 },
 "nbformat": 4,
 "nbformat_minor": 4
}
